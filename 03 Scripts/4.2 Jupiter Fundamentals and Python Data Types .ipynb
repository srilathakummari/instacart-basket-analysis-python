{
 "cells": [
  {
   "cell_type": "markdown",
   "id": "14f8cb8b-d281-47bc-93b1-45909a4d6502",
   "metadata": {},
   "source": [
    "01 Importing Libraries"
   ]
  },
  {
   "cell_type": "code",
   "execution_count": 1,
   "id": "9b1e9752-9734-4816-9495-5f5117885e8a",
   "metadata": {},
   "outputs": [],
   "source": [
    "import pandas as pd"
   ]
  },
  {
   "cell_type": "code",
   "execution_count": 2,
   "id": "bb8012ae-2c6a-4c23-8248-91e19ce05056",
   "metadata": {},
   "outputs": [],
   "source": [
    "import numpy as np"
   ]
  },
  {
   "cell_type": "code",
   "execution_count": 3,
   "id": "8de25b0d-0267-4963-a776-701e278323f5",
   "metadata": {},
   "outputs": [],
   "source": [
    "import os"
   ]
  },
  {
   "cell_type": "markdown",
   "id": "860452db-b768-4ea5-8b23-05ce34603d7d",
   "metadata": {},
   "source": [
    "02 Working with Python data types"
   ]
  },
  {
   "cell_type": "code",
   "execution_count": 5,
   "id": "61b72b4e-cd1d-413d-a392-86ba5e4815df",
   "metadata": {},
   "outputs": [],
   "source": [
    "# code 3 different ways of reaching a result 100"
   ]
  },
  {
   "cell_type": "code",
   "execution_count": 6,
   "id": "f1d1d6ca-93e3-4686-92c8-4fcfb42b577a",
   "metadata": {},
   "outputs": [],
   "source": [
    "x = 30"
   ]
  },
  {
   "cell_type": "code",
   "execution_count": 7,
   "id": "f20f7fb3-f2c2-41fb-96fc-089ad8ce512b",
   "metadata": {},
   "outputs": [],
   "source": [
    "y = 70"
   ]
  },
  {
   "cell_type": "code",
   "execution_count": 8,
   "id": "c0017671-a354-4f73-9035-23c1306dd18e",
   "metadata": {},
   "outputs": [
    {
     "data": {
      "text/plain": [
       "100"
      ]
     },
     "execution_count": 8,
     "metadata": {},
     "output_type": "execute_result"
    }
   ],
   "source": [
    "x + y"
   ]
  },
  {
   "cell_type": "code",
   "execution_count": 9,
   "id": "f467cf65-e7a9-4519-a170-204fc3dd2f87",
   "metadata": {},
   "outputs": [],
   "source": [
    "x = 150"
   ]
  },
  {
   "cell_type": "code",
   "execution_count": 10,
   "id": "89a6d030-c821-4e14-8a81-41fad54d6023",
   "metadata": {},
   "outputs": [],
   "source": [
    "y = 50"
   ]
  },
  {
   "cell_type": "code",
   "execution_count": 11,
   "id": "dfcf0587-676f-4ba7-b776-c039027a10c5",
   "metadata": {},
   "outputs": [
    {
     "data": {
      "text/plain": [
       "100"
      ]
     },
     "execution_count": 11,
     "metadata": {},
     "output_type": "execute_result"
    }
   ],
   "source": [
    "x - y"
   ]
  },
  {
   "cell_type": "code",
   "execution_count": 12,
   "id": "41eac2e6-089b-461d-958f-0522e1088e26",
   "metadata": {},
   "outputs": [],
   "source": [
    "x = 20"
   ]
  },
  {
   "cell_type": "code",
   "execution_count": 13,
   "id": "ad55696c-65fc-4b24-b2e5-93a5692ce171",
   "metadata": {},
   "outputs": [],
   "source": [
    "y = 33"
   ]
  },
  {
   "cell_type": "code",
   "execution_count": 14,
   "id": "0316bcfc-82c8-4623-8b98-0dc199cd133c",
   "metadata": {},
   "outputs": [],
   "source": [
    "z = 47"
   ]
  },
  {
   "cell_type": "code",
   "execution_count": 15,
   "id": "b73e07bc-1450-47f2-90dd-a2215eae4e86",
   "metadata": {},
   "outputs": [
    {
     "data": {
      "text/plain": [
       "100"
      ]
     },
     "execution_count": 15,
     "metadata": {},
     "output_type": "execute_result"
    }
   ],
   "source": [
    "x + y + z"
   ]
  },
  {
   "cell_type": "code",
   "execution_count": 16,
   "id": "aa04cbfb-7a73-4fe3-bf07-f4a2e726309e",
   "metadata": {},
   "outputs": [],
   "source": [
    "x = 80"
   ]
  },
  {
   "cell_type": "code",
   "execution_count": 17,
   "id": "1c950f93-c64e-4fe7-8d4d-6dbf806b01c1",
   "metadata": {},
   "outputs": [],
   "source": [
    "y = 40"
   ]
  },
  {
   "cell_type": "code",
   "execution_count": 18,
   "id": "93b038c2-9fb4-4116-bea6-266a8877d917",
   "metadata": {},
   "outputs": [],
   "source": [
    "z = 20"
   ]
  },
  {
   "cell_type": "code",
   "execution_count": 19,
   "id": "2ce07030-c074-4891-a4b1-af0d7c48fcc0",
   "metadata": {},
   "outputs": [
    {
     "data": {
      "text/plain": [
       "100"
      ]
     },
     "execution_count": 19,
     "metadata": {},
     "output_type": "execute_result"
    }
   ],
   "source": [
    "x + y - z"
   ]
  },
  {
   "cell_type": "code",
   "execution_count": 20,
   "id": "2284748e-a553-4a4e-ba1f-e5fd49136ebb",
   "metadata": {},
   "outputs": [],
   "source": [
    "# Code 2 floating-point variables and divide them by each other"
   ]
  },
  {
   "cell_type": "code",
   "execution_count": 21,
   "id": "7fbf280a-92fe-4dbf-85a4-45c34e2f50a3",
   "metadata": {},
   "outputs": [],
   "source": [
    " x = 6.92"
   ]
  },
  {
   "cell_type": "code",
   "execution_count": 22,
   "id": "5455fe06-d584-423f-9084-bb56892a0581",
   "metadata": {},
   "outputs": [],
   "source": [
    "y = 3.31"
   ]
  },
  {
   "cell_type": "code",
   "execution_count": 23,
   "id": "ed809d78-8f83-4d69-9227-c4028496fe65",
   "metadata": {},
   "outputs": [
    {
     "data": {
      "text/plain": [
       "2.090634441087613"
      ]
     },
     "execution_count": 23,
     "metadata": {},
     "output_type": "execute_result"
    }
   ],
   "source": [
    "x/y"
   ]
  },
  {
   "cell_type": "code",
   "execution_count": 24,
   "id": "7781a3c3-be8e-43a9-8db3-12db5fb86047",
   "metadata": {},
   "outputs": [],
   "source": [
    "# Construct a short word made of seperate strings"
   ]
  },
  {
   "cell_type": "code",
   "execution_count": 42,
   "id": "a96ac9bb-fffa-4dcf-970e-edfc3d9d9aca",
   "metadata": {},
   "outputs": [],
   "source": [
    "x = 'Speed-'"
   ]
  },
  {
   "cell_type": "code",
   "execution_count": 43,
   "id": "202e671c-3c6c-491f-acf4-6feba31d8637",
   "metadata": {},
   "outputs": [],
   "source": [
    "y = 'up'"
   ]
  },
  {
   "cell_type": "code",
   "execution_count": 44,
   "id": "d2e06496-bd3c-446d-98f0-06852f59f243",
   "metadata": {},
   "outputs": [
    {
     "data": {
      "text/plain": [
       "'Speed-up'"
      ]
     },
     "execution_count": 44,
     "metadata": {},
     "output_type": "execute_result"
    }
   ],
   "source": [
    "x + y"
   ]
  },
  {
   "cell_type": "code",
   "execution_count": 1,
   "id": "f8bd059a-8098-4bc0-bfbb-556730bc3388",
   "metadata": {},
   "outputs": [],
   "source": [
    "x = 'I have to '"
   ]
  },
  {
   "cell_type": "code",
   "execution_count": 2,
   "id": "a6ae1393-74e7-40ce-b244-6862178ef07d",
   "metadata": {},
   "outputs": [],
   "source": [
    "y = 'speed-up '"
   ]
  },
  {
   "cell_type": "code",
   "execution_count": 3,
   "id": "085628ef-57aa-464b-80fe-a4af712d31dd",
   "metadata": {},
   "outputs": [],
   "source": [
    "z = 'my work '"
   ]
  },
  {
   "cell_type": "code",
   "execution_count": 4,
   "id": "bf8c0d16-ede1-4d08-ae99-fafa50628075",
   "metadata": {},
   "outputs": [],
   "source": [
    "w = 'to finish the task.'"
   ]
  },
  {
   "cell_type": "code",
   "execution_count": 6,
   "id": "d73d7e8f-9271-4415-9a01-99bab3cc8284",
   "metadata": {},
   "outputs": [
    {
     "data": {
      "text/plain": [
       "'I have to speed-up my work to finish the task.'"
      ]
     },
     "execution_count": 6,
     "metadata": {},
     "output_type": "execute_result"
    }
   ],
   "source": [
    "x + y + z + w"
   ]
  },
  {
   "cell_type": "code",
   "execution_count": 7,
   "id": "dcf970e7-e33b-4dbd-814b-466b5309e71b",
   "metadata": {},
   "outputs": [],
   "source": [
    "# Bonus task"
   ]
  },
  {
   "cell_type": "code",
   "execution_count": 8,
   "id": "6262244f-d417-43c6-b647-f8fba98d5b07",
   "metadata": {},
   "outputs": [],
   "source": [
    "x = 'task'"
   ]
  },
  {
   "cell_type": "code",
   "execution_count": 9,
   "id": "ba71e9c5-7d1f-40de-aafe-314899e22085",
   "metadata": {},
   "outputs": [
    {
     "data": {
      "text/plain": [
       "'tasktasktasktasktasktasktasktasktasktasktasktasktasktasktasktasktasktasktasktasktasktasktasktasktasktasktasktasktasktasktasktasktasktasktasktasktasktasktasktasktasktasktasktasktasktasktasktasktasktasktasktasktasktasktasktasktasktasktasktasktasktasktasktasktasktasktasktasktasktasktasktasktasktasktasktasktasktasktasktasktasktasktasktasktasktasktasktasktasktasktasktasktasktasktasktasktasktasktasktask'"
      ]
     },
     "execution_count": 9,
     "metadata": {},
     "output_type": "execute_result"
    }
   ],
   "source": [
    "x * 100"
   ]
  }
 ],
 "metadata": {
  "kernelspec": {
   "display_name": "Python 3 (ipykernel)",
   "language": "python",
   "name": "python3"
  },
  "language_info": {
   "codemirror_mode": {
    "name": "ipython",
    "version": 3
   },
   "file_extension": ".py",
   "mimetype": "text/x-python",
   "name": "python",
   "nbconvert_exporter": "python",
   "pygments_lexer": "ipython3",
   "version": "3.11.7"
  }
 },
 "nbformat": 4,
 "nbformat_minor": 5
}
