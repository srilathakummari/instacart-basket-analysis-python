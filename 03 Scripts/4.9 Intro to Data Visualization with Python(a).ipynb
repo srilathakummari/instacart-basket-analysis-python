{
 "cells": [
  {
   "cell_type": "markdown",
   "id": "6003f575-401f-49ca-9e39-5d280582028b",
   "metadata": {},
   "source": [
    "### Part: 1"
   ]
  },
  {
   "cell_type": "markdown",
   "id": "fe8261d9-07cb-4817-a242-f50e2cf900d9",
   "metadata": {},
   "source": [
    "### 3 Import your analysis libraries, as well as your new customer data set as a dataframe."
   ]
  },
  {
   "cell_type": "code",
   "execution_count": 1,
   "id": "ce9ccd1b-48e2-41ed-89dc-5231d9738beb",
   "metadata": {},
   "outputs": [],
   "source": [
    "# Import libraries\n",
    "import pandas as pd\n",
    "import numpy as np\n",
    "import os\n",
    "import matplotlib.pyplot as plt\n",
    "import seaborn as sns\n",
    "import scipy"
   ]
  },
  {
   "cell_type": "code",
   "execution_count": 2,
   "id": "289d4eca-566c-4d74-873a-70ef111bea64",
   "metadata": {},
   "outputs": [],
   "source": [
    "# Tell Python to remember a main folder path\n",
    "path = r'/Users/gideon/Desktop/27-06-2020 Instacart Basket analysis'"
   ]
  },
  {
   "cell_type": "code",
   "execution_count": 3,
   "id": "2f72fd4b-8139-43d2-8e35-52d354d6be4d",
   "metadata": {},
   "outputs": [],
   "source": [
    "# Import new customer data set from the 'Original Data' folder as a dataframe\n",
    "customers = pd.read_csv(os.path.join(path, '02 Data', 'Original Data', 'customers.csv'))"
   ]
  },
  {
   "cell_type": "code",
   "execution_count": 4,
   "id": "8461c414-d1d6-46d5-9f2c-56c705f243cb",
   "metadata": {},
   "outputs": [
    {
     "data": {
      "text/html": [
       "<div>\n",
       "<style scoped>\n",
       "    .dataframe tbody tr th:only-of-type {\n",
       "        vertical-align: middle;\n",
       "    }\n",
       "\n",
       "    .dataframe tbody tr th {\n",
       "        vertical-align: top;\n",
       "    }\n",
       "\n",
       "    .dataframe thead th {\n",
       "        text-align: right;\n",
       "    }\n",
       "</style>\n",
       "<table border=\"1\" class=\"dataframe\">\n",
       "  <thead>\n",
       "    <tr style=\"text-align: right;\">\n",
       "      <th></th>\n",
       "      <th>user_id</th>\n",
       "      <th>First Name</th>\n",
       "      <th>Surnam</th>\n",
       "      <th>Gender</th>\n",
       "      <th>STATE</th>\n",
       "      <th>Age</th>\n",
       "      <th>date_joined</th>\n",
       "      <th>n_dependants</th>\n",
       "      <th>fam_status</th>\n",
       "      <th>income</th>\n",
       "    </tr>\n",
       "  </thead>\n",
       "  <tbody>\n",
       "    <tr>\n",
       "      <th>0</th>\n",
       "      <td>26711</td>\n",
       "      <td>Deborah</td>\n",
       "      <td>Esquivel</td>\n",
       "      <td>Female</td>\n",
       "      <td>Missouri</td>\n",
       "      <td>48</td>\n",
       "      <td>1/1/2017</td>\n",
       "      <td>3</td>\n",
       "      <td>married</td>\n",
       "      <td>165665</td>\n",
       "    </tr>\n",
       "    <tr>\n",
       "      <th>1</th>\n",
       "      <td>33890</td>\n",
       "      <td>Patricia</td>\n",
       "      <td>Hart</td>\n",
       "      <td>Female</td>\n",
       "      <td>New Mexico</td>\n",
       "      <td>36</td>\n",
       "      <td>1/1/2017</td>\n",
       "      <td>0</td>\n",
       "      <td>single</td>\n",
       "      <td>59285</td>\n",
       "    </tr>\n",
       "    <tr>\n",
       "      <th>2</th>\n",
       "      <td>65803</td>\n",
       "      <td>Kenneth</td>\n",
       "      <td>Farley</td>\n",
       "      <td>Male</td>\n",
       "      <td>Idaho</td>\n",
       "      <td>35</td>\n",
       "      <td>1/1/2017</td>\n",
       "      <td>2</td>\n",
       "      <td>married</td>\n",
       "      <td>99568</td>\n",
       "    </tr>\n",
       "    <tr>\n",
       "      <th>3</th>\n",
       "      <td>125935</td>\n",
       "      <td>Michelle</td>\n",
       "      <td>Hicks</td>\n",
       "      <td>Female</td>\n",
       "      <td>Iowa</td>\n",
       "      <td>40</td>\n",
       "      <td>1/1/2017</td>\n",
       "      <td>0</td>\n",
       "      <td>single</td>\n",
       "      <td>42049</td>\n",
       "    </tr>\n",
       "    <tr>\n",
       "      <th>4</th>\n",
       "      <td>130797</td>\n",
       "      <td>Ann</td>\n",
       "      <td>Gilmore</td>\n",
       "      <td>Female</td>\n",
       "      <td>Maryland</td>\n",
       "      <td>26</td>\n",
       "      <td>1/1/2017</td>\n",
       "      <td>1</td>\n",
       "      <td>married</td>\n",
       "      <td>40374</td>\n",
       "    </tr>\n",
       "    <tr>\n",
       "      <th>5</th>\n",
       "      <td>133128</td>\n",
       "      <td>Cynthia</td>\n",
       "      <td>Noble</td>\n",
       "      <td>Female</td>\n",
       "      <td>Kentucky</td>\n",
       "      <td>43</td>\n",
       "      <td>1/1/2017</td>\n",
       "      <td>2</td>\n",
       "      <td>married</td>\n",
       "      <td>49643</td>\n",
       "    </tr>\n",
       "    <tr>\n",
       "      <th>6</th>\n",
       "      <td>152052</td>\n",
       "      <td>Chris</td>\n",
       "      <td>Walton</td>\n",
       "      <td>Male</td>\n",
       "      <td>Montana</td>\n",
       "      <td>20</td>\n",
       "      <td>1/1/2017</td>\n",
       "      <td>0</td>\n",
       "      <td>single</td>\n",
       "      <td>61746</td>\n",
       "    </tr>\n",
       "    <tr>\n",
       "      <th>7</th>\n",
       "      <td>168851</td>\n",
       "      <td>Joseph</td>\n",
       "      <td>Hickman</td>\n",
       "      <td>Male</td>\n",
       "      <td>South Carolina</td>\n",
       "      <td>30</td>\n",
       "      <td>1/1/2017</td>\n",
       "      <td>0</td>\n",
       "      <td>single</td>\n",
       "      <td>63712</td>\n",
       "    </tr>\n",
       "    <tr>\n",
       "      <th>8</th>\n",
       "      <td>69965</td>\n",
       "      <td>Jeremy</td>\n",
       "      <td>Vang</td>\n",
       "      <td>Male</td>\n",
       "      <td>Texas</td>\n",
       "      <td>47</td>\n",
       "      <td>1/1/2017</td>\n",
       "      <td>1</td>\n",
       "      <td>married</td>\n",
       "      <td>162432</td>\n",
       "    </tr>\n",
       "    <tr>\n",
       "      <th>9</th>\n",
       "      <td>82820</td>\n",
       "      <td>Shawn</td>\n",
       "      <td>Chung</td>\n",
       "      <td>Male</td>\n",
       "      <td>Virginia</td>\n",
       "      <td>26</td>\n",
       "      <td>1/1/2017</td>\n",
       "      <td>2</td>\n",
       "      <td>married</td>\n",
       "      <td>32072</td>\n",
       "    </tr>\n",
       "  </tbody>\n",
       "</table>\n",
       "</div>"
      ],
      "text/plain": [
       "   user_id First Name    Surnam  Gender           STATE  Age date_joined  \\\n",
       "0    26711    Deborah  Esquivel  Female        Missouri   48    1/1/2017   \n",
       "1    33890   Patricia      Hart  Female      New Mexico   36    1/1/2017   \n",
       "2    65803    Kenneth    Farley    Male           Idaho   35    1/1/2017   \n",
       "3   125935   Michelle     Hicks  Female            Iowa   40    1/1/2017   \n",
       "4   130797        Ann   Gilmore  Female        Maryland   26    1/1/2017   \n",
       "5   133128    Cynthia     Noble  Female        Kentucky   43    1/1/2017   \n",
       "6   152052      Chris    Walton    Male         Montana   20    1/1/2017   \n",
       "7   168851     Joseph   Hickman    Male  South Carolina   30    1/1/2017   \n",
       "8    69965     Jeremy      Vang    Male           Texas   47    1/1/2017   \n",
       "9    82820      Shawn     Chung    Male        Virginia   26    1/1/2017   \n",
       "\n",
       "   n_dependants fam_status  income  \n",
       "0             3    married  165665  \n",
       "1             0     single   59285  \n",
       "2             2    married   99568  \n",
       "3             0     single   42049  \n",
       "4             1    married   40374  \n",
       "5             2    married   49643  \n",
       "6             0     single   61746  \n",
       "7             0     single   63712  \n",
       "8             1    married  162432  \n",
       "9             2    married   32072  "
      ]
     },
     "execution_count": 4,
     "metadata": {},
     "output_type": "execute_result"
    }
   ],
   "source": [
    "# Preview the newly imported dataframe \n",
    "customers.head(10)"
   ]
  },
  {
   "cell_type": "code",
   "execution_count": 5,
   "id": "f87c0909-384e-4bb2-8fe1-1f17e632d7fc",
   "metadata": {},
   "outputs": [
    {
     "data": {
      "text/plain": [
       "(206209, 10)"
      ]
     },
     "execution_count": 5,
     "metadata": {},
     "output_type": "execute_result"
    }
   ],
   "source": [
    "# Check the dimensions of the dataframe\n",
    "customers.shape"
   ]
  },
  {
   "cell_type": "code",
   "execution_count": 6,
   "id": "e61ebd69-8858-4f3e-9221-ff2ede0d5b39",
   "metadata": {},
   "outputs": [
    {
     "data": {
      "text/html": [
       "<div>\n",
       "<style scoped>\n",
       "    .dataframe tbody tr th:only-of-type {\n",
       "        vertical-align: middle;\n",
       "    }\n",
       "\n",
       "    .dataframe tbody tr th {\n",
       "        vertical-align: top;\n",
       "    }\n",
       "\n",
       "    .dataframe thead th {\n",
       "        text-align: right;\n",
       "    }\n",
       "</style>\n",
       "<table border=\"1\" class=\"dataframe\">\n",
       "  <thead>\n",
       "    <tr style=\"text-align: right;\">\n",
       "      <th></th>\n",
       "      <th>user_id</th>\n",
       "      <th>Age</th>\n",
       "      <th>n_dependants</th>\n",
       "      <th>income</th>\n",
       "    </tr>\n",
       "  </thead>\n",
       "  <tbody>\n",
       "    <tr>\n",
       "      <th>count</th>\n",
       "      <td>206209.000000</td>\n",
       "      <td>206209.000000</td>\n",
       "      <td>206209.000000</td>\n",
       "      <td>206209.000000</td>\n",
       "    </tr>\n",
       "    <tr>\n",
       "      <th>mean</th>\n",
       "      <td>103105.000000</td>\n",
       "      <td>49.501646</td>\n",
       "      <td>1.499823</td>\n",
       "      <td>94632.852548</td>\n",
       "    </tr>\n",
       "    <tr>\n",
       "      <th>std</th>\n",
       "      <td>59527.555167</td>\n",
       "      <td>18.480962</td>\n",
       "      <td>1.118433</td>\n",
       "      <td>42473.786988</td>\n",
       "    </tr>\n",
       "    <tr>\n",
       "      <th>min</th>\n",
       "      <td>1.000000</td>\n",
       "      <td>18.000000</td>\n",
       "      <td>0.000000</td>\n",
       "      <td>25903.000000</td>\n",
       "    </tr>\n",
       "    <tr>\n",
       "      <th>25%</th>\n",
       "      <td>51553.000000</td>\n",
       "      <td>33.000000</td>\n",
       "      <td>0.000000</td>\n",
       "      <td>59874.000000</td>\n",
       "    </tr>\n",
       "    <tr>\n",
       "      <th>50%</th>\n",
       "      <td>103105.000000</td>\n",
       "      <td>49.000000</td>\n",
       "      <td>1.000000</td>\n",
       "      <td>93547.000000</td>\n",
       "    </tr>\n",
       "    <tr>\n",
       "      <th>75%</th>\n",
       "      <td>154657.000000</td>\n",
       "      <td>66.000000</td>\n",
       "      <td>3.000000</td>\n",
       "      <td>124244.000000</td>\n",
       "    </tr>\n",
       "    <tr>\n",
       "      <th>max</th>\n",
       "      <td>206209.000000</td>\n",
       "      <td>81.000000</td>\n",
       "      <td>3.000000</td>\n",
       "      <td>593901.000000</td>\n",
       "    </tr>\n",
       "  </tbody>\n",
       "</table>\n",
       "</div>"
      ],
      "text/plain": [
       "             user_id            Age   n_dependants         income\n",
       "count  206209.000000  206209.000000  206209.000000  206209.000000\n",
       "mean   103105.000000      49.501646       1.499823   94632.852548\n",
       "std     59527.555167      18.480962       1.118433   42473.786988\n",
       "min         1.000000      18.000000       0.000000   25903.000000\n",
       "25%     51553.000000      33.000000       0.000000   59874.000000\n",
       "50%    103105.000000      49.000000       1.000000   93547.000000\n",
       "75%    154657.000000      66.000000       3.000000  124244.000000\n",
       "max    206209.000000      81.000000       3.000000  593901.000000"
      ]
     },
     "execution_count": 6,
     "metadata": {},
     "output_type": "execute_result"
    }
   ],
   "source": [
    "# View descriptive statistics \n",
    "customers.describe()"
   ]
  },
  {
   "cell_type": "code",
   "execution_count": 7,
   "id": "60809347-4565-4af2-a706-d8d0b54ebd5d",
   "metadata": {},
   "outputs": [
    {
     "data": {
      "text/plain": [
       "user_id          int64\n",
       "First Name      object\n",
       "Surnam          object\n",
       "Gender          object\n",
       "STATE           object\n",
       "Age              int64\n",
       "date_joined     object\n",
       "n_dependants     int64\n",
       "fam_status      object\n",
       "income           int64\n",
       "dtype: object"
      ]
     },
     "execution_count": 7,
     "metadata": {},
     "output_type": "execute_result"
    }
   ],
   "source": [
    "# Check data types\n",
    "customers.dtypes"
   ]
  },
  {
   "cell_type": "markdown",
   "id": "b704fb46-dcce-4025-a1ff-c979dc1b6b44",
   "metadata": {},
   "source": [
    "### 4. Wrangle the data so that it follows consistent logic"
   ]
  },
  {
   "cell_type": "code",
   "execution_count": 9,
   "id": "5fe5e344-896e-47c1-b3e3-f712d4c3b16f",
   "metadata": {},
   "outputs": [],
   "source": [
    "# Rename the columns to establish uniformity\n",
    "customers.rename(columns = {'First Name' : 'first_name'}, inplace = True)"
   ]
  },
  {
   "cell_type": "code",
   "execution_count": 10,
   "id": "af9e66cc-aa1e-413f-acfa-82405f0826d5",
   "metadata": {},
   "outputs": [],
   "source": [
    "customers.rename(columns = {'Surnam' : 'surname'}, inplace = True)"
   ]
  },
  {
   "cell_type": "code",
   "execution_count": 11,
   "id": "38af722c-663a-4e5e-9ad4-c4053f5b1827",
   "metadata": {},
   "outputs": [],
   "source": [
    "customers.rename(columns = {'Gender' : 'gender'}, inplace = True)"
   ]
  },
  {
   "cell_type": "code",
   "execution_count": 12,
   "id": "e887dad9-ba5f-477c-bd2a-b79ae0c647a5",
   "metadata": {},
   "outputs": [],
   "source": [
    "customers.rename(columns = {'STATE' : 'state'}, inplace = True)"
   ]
  },
  {
   "cell_type": "code",
   "execution_count": 13,
   "id": "a6dd5c3b-8b85-4797-818d-37c2d30193e8",
   "metadata": {},
   "outputs": [],
   "source": [
    "customers.rename(columns = {'Age' : 'age'}, inplace = True)"
   ]
  },
  {
   "cell_type": "code",
   "execution_count": 14,
   "id": "5ad9ea75-96a8-4c4e-b810-0599af93dc9b",
   "metadata": {},
   "outputs": [],
   "source": [
    "customers.rename(columns = {'fam_status' : 'marital_status'}, inplace = True)"
   ]
  },
  {
   "cell_type": "code",
   "execution_count": 15,
   "id": "a6111e99-ecc1-4a0c-9979-a19607a0c4c9",
   "metadata": {},
   "outputs": [
    {
     "data": {
      "text/plain": [
       "Index(['user_id', 'first_name', 'surname', 'gender', 'state', 'age',\n",
       "       'date_joined', 'n_dependants', 'marital_status', 'income'],\n",
       "      dtype='object')"
      ]
     },
     "execution_count": 15,
     "metadata": {},
     "output_type": "execute_result"
    }
   ],
   "source": [
    "# Check columns\n",
    "customers.columns"
   ]
  },
  {
   "cell_type": "code",
   "execution_count": 16,
   "id": "b05b6f95-c5d2-4261-8ef7-dfc64a3531c9",
   "metadata": {},
   "outputs": [],
   "source": [
    "# The columns have been successfully renamed and are now uniform "
   ]
  },
  {
   "cell_type": "code",
   "execution_count": 17,
   "id": "d91a5094-7092-4854-8a67-99db3c9ffcbf",
   "metadata": {},
   "outputs": [
    {
     "data": {
      "text/html": [
       "<div>\n",
       "<style scoped>\n",
       "    .dataframe tbody tr th:only-of-type {\n",
       "        vertical-align: middle;\n",
       "    }\n",
       "\n",
       "    .dataframe tbody tr th {\n",
       "        vertical-align: top;\n",
       "    }\n",
       "\n",
       "    .dataframe thead th {\n",
       "        text-align: right;\n",
       "    }\n",
       "</style>\n",
       "<table border=\"1\" class=\"dataframe\">\n",
       "  <thead>\n",
       "    <tr style=\"text-align: right;\">\n",
       "      <th></th>\n",
       "      <th>user_id</th>\n",
       "      <th>first_name</th>\n",
       "      <th>surname</th>\n",
       "      <th>gender</th>\n",
       "      <th>state</th>\n",
       "      <th>age</th>\n",
       "      <th>date_joined</th>\n",
       "      <th>n_dependants</th>\n",
       "      <th>marital_status</th>\n",
       "      <th>income</th>\n",
       "    </tr>\n",
       "  </thead>\n",
       "  <tbody>\n",
       "    <tr>\n",
       "      <th>0</th>\n",
       "      <td>26711</td>\n",
       "      <td>Deborah</td>\n",
       "      <td>Esquivel</td>\n",
       "      <td>Female</td>\n",
       "      <td>Missouri</td>\n",
       "      <td>48</td>\n",
       "      <td>1/1/2017</td>\n",
       "      <td>3</td>\n",
       "      <td>married</td>\n",
       "      <td>165665</td>\n",
       "    </tr>\n",
       "    <tr>\n",
       "      <th>1</th>\n",
       "      <td>33890</td>\n",
       "      <td>Patricia</td>\n",
       "      <td>Hart</td>\n",
       "      <td>Female</td>\n",
       "      <td>New Mexico</td>\n",
       "      <td>36</td>\n",
       "      <td>1/1/2017</td>\n",
       "      <td>0</td>\n",
       "      <td>single</td>\n",
       "      <td>59285</td>\n",
       "    </tr>\n",
       "    <tr>\n",
       "      <th>2</th>\n",
       "      <td>65803</td>\n",
       "      <td>Kenneth</td>\n",
       "      <td>Farley</td>\n",
       "      <td>Male</td>\n",
       "      <td>Idaho</td>\n",
       "      <td>35</td>\n",
       "      <td>1/1/2017</td>\n",
       "      <td>2</td>\n",
       "      <td>married</td>\n",
       "      <td>99568</td>\n",
       "    </tr>\n",
       "    <tr>\n",
       "      <th>3</th>\n",
       "      <td>125935</td>\n",
       "      <td>Michelle</td>\n",
       "      <td>Hicks</td>\n",
       "      <td>Female</td>\n",
       "      <td>Iowa</td>\n",
       "      <td>40</td>\n",
       "      <td>1/1/2017</td>\n",
       "      <td>0</td>\n",
       "      <td>single</td>\n",
       "      <td>42049</td>\n",
       "    </tr>\n",
       "    <tr>\n",
       "      <th>4</th>\n",
       "      <td>130797</td>\n",
       "      <td>Ann</td>\n",
       "      <td>Gilmore</td>\n",
       "      <td>Female</td>\n",
       "      <td>Maryland</td>\n",
       "      <td>26</td>\n",
       "      <td>1/1/2017</td>\n",
       "      <td>1</td>\n",
       "      <td>married</td>\n",
       "      <td>40374</td>\n",
       "    </tr>\n",
       "  </tbody>\n",
       "</table>\n",
       "</div>"
      ],
      "text/plain": [
       "   user_id first_name   surname  gender       state  age date_joined  \\\n",
       "0    26711    Deborah  Esquivel  Female    Missouri   48    1/1/2017   \n",
       "1    33890   Patricia      Hart  Female  New Mexico   36    1/1/2017   \n",
       "2    65803    Kenneth    Farley    Male       Idaho   35    1/1/2017   \n",
       "3   125935   Michelle     Hicks  Female        Iowa   40    1/1/2017   \n",
       "4   130797        Ann   Gilmore  Female    Maryland   26    1/1/2017   \n",
       "\n",
       "   n_dependants marital_status  income  \n",
       "0             3        married  165665  \n",
       "1             0         single   59285  \n",
       "2             2        married   99568  \n",
       "3             0         single   42049  \n",
       "4             1        married   40374  "
      ]
     },
     "execution_count": 17,
     "metadata": {},
     "output_type": "execute_result"
    }
   ],
   "source": [
    "customers.head(5)"
   ]
  },
  {
   "cell_type": "code",
   "execution_count": 18,
   "id": "e994e7b1-1d7f-4686-88c9-8903e0f6379f",
   "metadata": {},
   "outputs": [],
   "source": [
    "# I think for the analysis all the columns are important, so there is no need to drop any columns from the dataframe"
   ]
  },
  {
   "cell_type": "markdown",
   "id": "2b5273fe-4e35-4fe6-b688-d9dcdc011db3",
   "metadata": {},
   "source": [
    "### 5. Complete the fundamental data quality and consistency checks"
   ]
  },
  {
   "cell_type": "code",
   "execution_count": 19,
   "id": "7c8cfb9e-bd47-45e2-9693-481986fe8ed9",
   "metadata": {},
   "outputs": [
    {
     "data": {
      "text/plain": [
       "user_id            int64\n",
       "first_name        object\n",
       "surname           object\n",
       "gender            object\n",
       "state             object\n",
       "age                int64\n",
       "date_joined       object\n",
       "n_dependants       int64\n",
       "marital_status    object\n",
       "income             int64\n",
       "dtype: object"
      ]
     },
     "execution_count": 19,
     "metadata": {},
     "output_type": "execute_result"
    }
   ],
   "source": [
    "# Address data-types and potential mixed data-types in the dataframe\n",
    "customers.dtypes"
   ]
  },
  {
   "cell_type": "code",
   "execution_count": 20,
   "id": "1902330e-8f4d-4c4e-8227-7b42c8ed4d1a",
   "metadata": {},
   "outputs": [
    {
     "name": "stdout",
     "output_type": "stream",
     "text": [
      "first_name\n"
     ]
    }
   ],
   "source": [
    "# Checking for mixed data-types in each column\n",
    "for col in customers.columns.tolist():\n",
    "  weird = (customers[[col]].map(type) != customers[[col]].iloc[0].apply(type)).any(axis = 1)\n",
    "  if len (customers[weird]) > 0:\n",
    "    print (col)"
   ]
  },
  {
   "cell_type": "code",
   "execution_count": 21,
   "id": "c82b4975-c020-4bce-9f5c-ea96fc253882",
   "metadata": {},
   "outputs": [],
   "source": [
    "# The output returned that the 'first_name' column has mixed data-types that need to be addressed\n",
    "customers['first_name'] = customers['first_name'].astype('str')"
   ]
  },
  {
   "cell_type": "code",
   "execution_count": 38,
   "id": "574851dd-8ce5-49fa-a17f-6c044cf523f7",
   "metadata": {},
   "outputs": [],
   "source": [
    "# The 'user_id' column, while not containing mixed data-types, is still improperly listed as an integer\n",
    "customers['user_id'] = customers['user_id'].astype('str')"
   ]
  },
  {
   "cell_type": "code",
   "execution_count": 39,
   "id": "feeb44c3-2a40-4d18-9595-ce8a5151432f",
   "metadata": {},
   "outputs": [
    {
     "data": {
      "text/plain": [
       "user_id           object\n",
       "first_name        object\n",
       "surname           object\n",
       "gender            object\n",
       "state             object\n",
       "age                int64\n",
       "date_joined       object\n",
       "n_dependants       int64\n",
       "marital_status    object\n",
       "income             int64\n",
       "dtype: object"
      ]
     },
     "execution_count": 39,
     "metadata": {},
     "output_type": "execute_result"
    }
   ],
   "source": [
    "# Re-check the data-types in the data frame and for mixed data-types\n",
    "customers.dtypes"
   ]
  },
  {
   "cell_type": "code",
   "execution_count": 23,
   "id": "b48d8a59-f72e-42c1-aeaf-7c1397595174",
   "metadata": {},
   "outputs": [],
   "source": [
    "for col in customers.columns.tolist():\n",
    "  weird = (customers[[col]].map(type) != customers[[col]].iloc[0].apply(type)).any(axis = 1)\n",
    "  if len (customers[weird]) > 0:\n",
    "    print (col)"
   ]
  },
  {
   "cell_type": "code",
   "execution_count": 24,
   "id": "78805bb3-4313-4746-b7aa-354725c62c9e",
   "metadata": {},
   "outputs": [],
   "source": [
    "# Now all columns are the appropriate data-types and no mixed data-types are present in any columns"
   ]
  },
  {
   "cell_type": "code",
   "execution_count": 25,
   "id": "a7977565-1954-448f-b24e-14c0a7d40794",
   "metadata": {},
   "outputs": [
    {
     "data": {
      "text/plain": [
       "user_id           0\n",
       "first_name        0\n",
       "surname           0\n",
       "gender            0\n",
       "state             0\n",
       "age               0\n",
       "date_joined       0\n",
       "n_dependants      0\n",
       "marital_status    0\n",
       "income            0\n",
       "dtype: int64"
      ]
     },
     "execution_count": 25,
     "metadata": {},
     "output_type": "execute_result"
    }
   ],
   "source": [
    "# Check for missing data\n",
    "customers.isnull().sum()"
   ]
  },
  {
   "cell_type": "markdown",
   "id": "398e3bea-88a2-46f2-bc75-d2597d43b32d",
   "metadata": {},
   "source": [
    "#### No null values found"
   ]
  },
  {
   "cell_type": "code",
   "execution_count": 26,
   "id": "0691dd41-cf04-4b20-963b-f4757ee4e7d2",
   "metadata": {},
   "outputs": [],
   "source": [
    "# Check for full-duplicates\n",
    "customers_dups = customers[customers.duplicated()]"
   ]
  },
  {
   "cell_type": "code",
   "execution_count": 28,
   "id": "bb7a8df2-075c-4b42-8b43-f4db0f5c64f1",
   "metadata": {},
   "outputs": [
    {
     "data": {
      "text/html": [
       "<div>\n",
       "<style scoped>\n",
       "    .dataframe tbody tr th:only-of-type {\n",
       "        vertical-align: middle;\n",
       "    }\n",
       "\n",
       "    .dataframe tbody tr th {\n",
       "        vertical-align: top;\n",
       "    }\n",
       "\n",
       "    .dataframe thead th {\n",
       "        text-align: right;\n",
       "    }\n",
       "</style>\n",
       "<table border=\"1\" class=\"dataframe\">\n",
       "  <thead>\n",
       "    <tr style=\"text-align: right;\">\n",
       "      <th></th>\n",
       "      <th>user_id</th>\n",
       "      <th>first_name</th>\n",
       "      <th>surname</th>\n",
       "      <th>gender</th>\n",
       "      <th>state</th>\n",
       "      <th>age</th>\n",
       "      <th>date_joined</th>\n",
       "      <th>n_dependants</th>\n",
       "      <th>marital_status</th>\n",
       "      <th>income</th>\n",
       "    </tr>\n",
       "  </thead>\n",
       "  <tbody>\n",
       "  </tbody>\n",
       "</table>\n",
       "</div>"
      ],
      "text/plain": [
       "Empty DataFrame\n",
       "Columns: [user_id, first_name, surname, gender, state, age, date_joined, n_dependants, marital_status, income]\n",
       "Index: []"
      ]
     },
     "execution_count": 28,
     "metadata": {},
     "output_type": "execute_result"
    }
   ],
   "source": [
    "customers_dups"
   ]
  },
  {
   "cell_type": "markdown",
   "id": "3e1cd337-af37-4a4f-ad76-155a325d11a2",
   "metadata": {},
   "source": [
    "#### No duplicates found"
   ]
  },
  {
   "cell_type": "code",
   "execution_count": 29,
   "id": "6183b2b7-9bad-4a9b-942f-3041a02963b2",
   "metadata": {},
   "outputs": [
    {
     "data": {
      "text/html": [
       "<div>\n",
       "<style scoped>\n",
       "    .dataframe tbody tr th:only-of-type {\n",
       "        vertical-align: middle;\n",
       "    }\n",
       "\n",
       "    .dataframe tbody tr th {\n",
       "        vertical-align: top;\n",
       "    }\n",
       "\n",
       "    .dataframe thead th {\n",
       "        text-align: right;\n",
       "    }\n",
       "</style>\n",
       "<table border=\"1\" class=\"dataframe\">\n",
       "  <thead>\n",
       "    <tr style=\"text-align: right;\">\n",
       "      <th></th>\n",
       "      <th>user_id</th>\n",
       "      <th>age</th>\n",
       "      <th>n_dependants</th>\n",
       "      <th>income</th>\n",
       "    </tr>\n",
       "  </thead>\n",
       "  <tbody>\n",
       "    <tr>\n",
       "      <th>count</th>\n",
       "      <td>206209.000000</td>\n",
       "      <td>206209.000000</td>\n",
       "      <td>206209.000000</td>\n",
       "      <td>206209.000000</td>\n",
       "    </tr>\n",
       "    <tr>\n",
       "      <th>mean</th>\n",
       "      <td>103105.000000</td>\n",
       "      <td>49.501646</td>\n",
       "      <td>1.499823</td>\n",
       "      <td>94632.852548</td>\n",
       "    </tr>\n",
       "    <tr>\n",
       "      <th>std</th>\n",
       "      <td>59527.555167</td>\n",
       "      <td>18.480962</td>\n",
       "      <td>1.118433</td>\n",
       "      <td>42473.786988</td>\n",
       "    </tr>\n",
       "    <tr>\n",
       "      <th>min</th>\n",
       "      <td>1.000000</td>\n",
       "      <td>18.000000</td>\n",
       "      <td>0.000000</td>\n",
       "      <td>25903.000000</td>\n",
       "    </tr>\n",
       "    <tr>\n",
       "      <th>25%</th>\n",
       "      <td>51553.000000</td>\n",
       "      <td>33.000000</td>\n",
       "      <td>0.000000</td>\n",
       "      <td>59874.000000</td>\n",
       "    </tr>\n",
       "    <tr>\n",
       "      <th>50%</th>\n",
       "      <td>103105.000000</td>\n",
       "      <td>49.000000</td>\n",
       "      <td>1.000000</td>\n",
       "      <td>93547.000000</td>\n",
       "    </tr>\n",
       "    <tr>\n",
       "      <th>75%</th>\n",
       "      <td>154657.000000</td>\n",
       "      <td>66.000000</td>\n",
       "      <td>3.000000</td>\n",
       "      <td>124244.000000</td>\n",
       "    </tr>\n",
       "    <tr>\n",
       "      <th>max</th>\n",
       "      <td>206209.000000</td>\n",
       "      <td>81.000000</td>\n",
       "      <td>3.000000</td>\n",
       "      <td>593901.000000</td>\n",
       "    </tr>\n",
       "  </tbody>\n",
       "</table>\n",
       "</div>"
      ],
      "text/plain": [
       "             user_id            age   n_dependants         income\n",
       "count  206209.000000  206209.000000  206209.000000  206209.000000\n",
       "mean   103105.000000      49.501646       1.499823   94632.852548\n",
       "std     59527.555167      18.480962       1.118433   42473.786988\n",
       "min         1.000000      18.000000       0.000000   25903.000000\n",
       "25%     51553.000000      33.000000       0.000000   59874.000000\n",
       "50%    103105.000000      49.000000       1.000000   93547.000000\n",
       "75%    154657.000000      66.000000       3.000000  124244.000000\n",
       "max    206209.000000      81.000000       3.000000  593901.000000"
      ]
     },
     "execution_count": 29,
     "metadata": {},
     "output_type": "execute_result"
    }
   ],
   "source": [
    "# Perform a descriptive statistic check to ensure everything looks normal\n",
    "customers.describe()"
   ]
  },
  {
   "cell_type": "code",
   "execution_count": 30,
   "id": "6a2f4406-8253-4bde-8901-a8c7acea2f04",
   "metadata": {},
   "outputs": [],
   "source": [
    "# There's nothing unusual present in the descriptive statistics"
   ]
  },
  {
   "cell_type": "markdown",
   "id": "ec8b8067-b781-46b4-bd78-6e6eddb6b4e3",
   "metadata": {},
   "source": [
    "### 6. Combine your customer data with the rest of your prepared Instacart data"
   ]
  },
  {
   "cell_type": "code",
   "execution_count": 31,
   "id": "52462110-40a7-4f2a-a99e-94af74f2215e",
   "metadata": {},
   "outputs": [],
   "source": [
    "# Import the rest of the prepared Instacart data\n",
    "orders_products = pd.read_pickle(os.path.join(path, '02 Data', 'Prepared Data', 'orders_products_combined_merged_new_variables_derived_aggregated.pkl'))"
   ]
  },
  {
   "cell_type": "code",
   "execution_count": 32,
   "id": "797c2387-39c1-42b7-ad35-495abcdbdde7",
   "metadata": {},
   "outputs": [
    {
     "data": {
      "text/plain": [
       "(32404859, 24)"
      ]
     },
     "execution_count": 32,
     "metadata": {},
     "output_type": "execute_result"
    }
   ],
   "source": [
    "# Check the shape of the newly imported dataframe\n",
    "orders_products.shape"
   ]
  },
  {
   "cell_type": "code",
   "execution_count": 33,
   "id": "22ca3e4a-bb94-402b-901a-306cf8f44da2",
   "metadata": {},
   "outputs": [
    {
     "data": {
      "text/plain": [
       "(206209, 10)"
      ]
     },
     "execution_count": 33,
     "metadata": {},
     "output_type": "execute_result"
    }
   ],
   "source": [
    "# Check the shape of the customers dataframe\n",
    "customers.shape"
   ]
  },
  {
   "cell_type": "code",
   "execution_count": 34,
   "id": "4cd7f6b5-6850-4b18-9329-f237fd9ea14d",
   "metadata": {},
   "outputs": [
    {
     "data": {
      "text/html": [
       "<div>\n",
       "<style scoped>\n",
       "    .dataframe tbody tr th:only-of-type {\n",
       "        vertical-align: middle;\n",
       "    }\n",
       "\n",
       "    .dataframe tbody tr th {\n",
       "        vertical-align: top;\n",
       "    }\n",
       "\n",
       "    .dataframe thead th {\n",
       "        text-align: right;\n",
       "    }\n",
       "</style>\n",
       "<table border=\"1\" class=\"dataframe\">\n",
       "  <thead>\n",
       "    <tr style=\"text-align: right;\">\n",
       "      <th></th>\n",
       "      <th>product_id</th>\n",
       "      <th>product_name</th>\n",
       "      <th>aisle_id</th>\n",
       "      <th>department_id</th>\n",
       "      <th>prices</th>\n",
       "      <th>order_id</th>\n",
       "      <th>user_id</th>\n",
       "      <th>order_number</th>\n",
       "      <th>orders_day_of_week</th>\n",
       "      <th>order_hour_of_day</th>\n",
       "      <th>...</th>\n",
       "      <th>price_range_loc</th>\n",
       "      <th>busiest day</th>\n",
       "      <th>busiest_days</th>\n",
       "      <th>busiest_period_of_day</th>\n",
       "      <th>max_order</th>\n",
       "      <th>loyalty_flag</th>\n",
       "      <th>average_spend</th>\n",
       "      <th>spender_flag</th>\n",
       "      <th>customer_frequency</th>\n",
       "      <th>frequency_flag</th>\n",
       "    </tr>\n",
       "  </thead>\n",
       "  <tbody>\n",
       "    <tr>\n",
       "      <th>0</th>\n",
       "      <td>1</td>\n",
       "      <td>Chocolate Sandwich Cookies</td>\n",
       "      <td>61</td>\n",
       "      <td>19</td>\n",
       "      <td>5.8</td>\n",
       "      <td>3139998</td>\n",
       "      <td>138</td>\n",
       "      <td>28</td>\n",
       "      <td>6</td>\n",
       "      <td>11</td>\n",
       "      <td>...</td>\n",
       "      <td>Mid-range product</td>\n",
       "      <td>regularly busy</td>\n",
       "      <td>Regularly busy</td>\n",
       "      <td>Most orders</td>\n",
       "      <td>32</td>\n",
       "      <td>Regular customer</td>\n",
       "      <td>6.935811</td>\n",
       "      <td>Low_spender</td>\n",
       "      <td>8.0</td>\n",
       "      <td>NaN</td>\n",
       "    </tr>\n",
       "    <tr>\n",
       "      <th>1</th>\n",
       "      <td>1</td>\n",
       "      <td>Chocolate Sandwich Cookies</td>\n",
       "      <td>61</td>\n",
       "      <td>19</td>\n",
       "      <td>5.8</td>\n",
       "      <td>1977647</td>\n",
       "      <td>138</td>\n",
       "      <td>30</td>\n",
       "      <td>6</td>\n",
       "      <td>17</td>\n",
       "      <td>...</td>\n",
       "      <td>Mid-range product</td>\n",
       "      <td>regularly busy</td>\n",
       "      <td>Regularly busy</td>\n",
       "      <td>Average orders</td>\n",
       "      <td>32</td>\n",
       "      <td>Regular customer</td>\n",
       "      <td>6.935811</td>\n",
       "      <td>Low_spender</td>\n",
       "      <td>8.0</td>\n",
       "      <td>NaN</td>\n",
       "    </tr>\n",
       "    <tr>\n",
       "      <th>2</th>\n",
       "      <td>1</td>\n",
       "      <td>Chocolate Sandwich Cookies</td>\n",
       "      <td>61</td>\n",
       "      <td>19</td>\n",
       "      <td>5.8</td>\n",
       "      <td>389851</td>\n",
       "      <td>709</td>\n",
       "      <td>2</td>\n",
       "      <td>0</td>\n",
       "      <td>21</td>\n",
       "      <td>...</td>\n",
       "      <td>Mid-range product</td>\n",
       "      <td>Busiest day</td>\n",
       "      <td>Busiest days</td>\n",
       "      <td>Average orders</td>\n",
       "      <td>5</td>\n",
       "      <td>New customer</td>\n",
       "      <td>7.930208</td>\n",
       "      <td>Low_spender</td>\n",
       "      <td>7.0</td>\n",
       "      <td>NaN</td>\n",
       "    </tr>\n",
       "    <tr>\n",
       "      <th>3</th>\n",
       "      <td>1</td>\n",
       "      <td>Chocolate Sandwich Cookies</td>\n",
       "      <td>61</td>\n",
       "      <td>19</td>\n",
       "      <td>5.8</td>\n",
       "      <td>652770</td>\n",
       "      <td>764</td>\n",
       "      <td>1</td>\n",
       "      <td>3</td>\n",
       "      <td>13</td>\n",
       "      <td>...</td>\n",
       "      <td>Mid-range product</td>\n",
       "      <td>regularly busy</td>\n",
       "      <td>Slowest days</td>\n",
       "      <td>Most orders</td>\n",
       "      <td>3</td>\n",
       "      <td>New customer</td>\n",
       "      <td>4.972414</td>\n",
       "      <td>Low_spender</td>\n",
       "      <td>9.0</td>\n",
       "      <td>NaN</td>\n",
       "    </tr>\n",
       "    <tr>\n",
       "      <th>4</th>\n",
       "      <td>1</td>\n",
       "      <td>Chocolate Sandwich Cookies</td>\n",
       "      <td>61</td>\n",
       "      <td>19</td>\n",
       "      <td>5.8</td>\n",
       "      <td>1813452</td>\n",
       "      <td>764</td>\n",
       "      <td>3</td>\n",
       "      <td>4</td>\n",
       "      <td>17</td>\n",
       "      <td>...</td>\n",
       "      <td>Mid-range product</td>\n",
       "      <td>Least busy</td>\n",
       "      <td>Slowest days</td>\n",
       "      <td>Average orders</td>\n",
       "      <td>3</td>\n",
       "      <td>New customer</td>\n",
       "      <td>4.972414</td>\n",
       "      <td>Low_spender</td>\n",
       "      <td>9.0</td>\n",
       "      <td>NaN</td>\n",
       "    </tr>\n",
       "  </tbody>\n",
       "</table>\n",
       "<p>5 rows × 24 columns</p>\n",
       "</div>"
      ],
      "text/plain": [
       "   product_id                product_name  aisle_id  department_id  prices  \\\n",
       "0           1  Chocolate Sandwich Cookies        61             19     5.8   \n",
       "1           1  Chocolate Sandwich Cookies        61             19     5.8   \n",
       "2           1  Chocolate Sandwich Cookies        61             19     5.8   \n",
       "3           1  Chocolate Sandwich Cookies        61             19     5.8   \n",
       "4           1  Chocolate Sandwich Cookies        61             19     5.8   \n",
       "\n",
       "   order_id  user_id  order_number  orders_day_of_week  order_hour_of_day  \\\n",
       "0   3139998      138            28                   6                 11   \n",
       "1   1977647      138            30                   6                 17   \n",
       "2    389851      709             2                   0                 21   \n",
       "3    652770      764             1                   3                 13   \n",
       "4   1813452      764             3                   4                 17   \n",
       "\n",
       "   ...    price_range_loc     busiest day    busiest_days  \\\n",
       "0  ...  Mid-range product  regularly busy  Regularly busy   \n",
       "1  ...  Mid-range product  regularly busy  Regularly busy   \n",
       "2  ...  Mid-range product     Busiest day    Busiest days   \n",
       "3  ...  Mid-range product  regularly busy    Slowest days   \n",
       "4  ...  Mid-range product      Least busy    Slowest days   \n",
       "\n",
       "  busiest_period_of_day max_order      loyalty_flag average_spend  \\\n",
       "0           Most orders        32  Regular customer      6.935811   \n",
       "1        Average orders        32  Regular customer      6.935811   \n",
       "2        Average orders         5      New customer      7.930208   \n",
       "3           Most orders         3      New customer      4.972414   \n",
       "4        Average orders         3      New customer      4.972414   \n",
       "\n",
       "  spender_flag  customer_frequency frequency_flag  \n",
       "0  Low_spender                 8.0            NaN  \n",
       "1  Low_spender                 8.0            NaN  \n",
       "2  Low_spender                 7.0            NaN  \n",
       "3  Low_spender                 9.0            NaN  \n",
       "4  Low_spender                 9.0            NaN  \n",
       "\n",
       "[5 rows x 24 columns]"
      ]
     },
     "execution_count": 34,
     "metadata": {},
     "output_type": "execute_result"
    }
   ],
   "source": [
    "# Identify a shared column\n",
    "orders_products.head(5)"
   ]
  },
  {
   "cell_type": "code",
   "execution_count": 35,
   "id": "bad7bfdc-8e24-4171-81fd-3a1bdc252747",
   "metadata": {},
   "outputs": [
    {
     "data": {
      "text/html": [
       "<div>\n",
       "<style scoped>\n",
       "    .dataframe tbody tr th:only-of-type {\n",
       "        vertical-align: middle;\n",
       "    }\n",
       "\n",
       "    .dataframe tbody tr th {\n",
       "        vertical-align: top;\n",
       "    }\n",
       "\n",
       "    .dataframe thead th {\n",
       "        text-align: right;\n",
       "    }\n",
       "</style>\n",
       "<table border=\"1\" class=\"dataframe\">\n",
       "  <thead>\n",
       "    <tr style=\"text-align: right;\">\n",
       "      <th></th>\n",
       "      <th>user_id</th>\n",
       "      <th>first_name</th>\n",
       "      <th>surname</th>\n",
       "      <th>gender</th>\n",
       "      <th>state</th>\n",
       "      <th>age</th>\n",
       "      <th>date_joined</th>\n",
       "      <th>n_dependants</th>\n",
       "      <th>marital_status</th>\n",
       "      <th>income</th>\n",
       "    </tr>\n",
       "  </thead>\n",
       "  <tbody>\n",
       "    <tr>\n",
       "      <th>0</th>\n",
       "      <td>26711</td>\n",
       "      <td>Deborah</td>\n",
       "      <td>Esquivel</td>\n",
       "      <td>Female</td>\n",
       "      <td>Missouri</td>\n",
       "      <td>48</td>\n",
       "      <td>1/1/2017</td>\n",
       "      <td>3</td>\n",
       "      <td>married</td>\n",
       "      <td>165665</td>\n",
       "    </tr>\n",
       "    <tr>\n",
       "      <th>1</th>\n",
       "      <td>33890</td>\n",
       "      <td>Patricia</td>\n",
       "      <td>Hart</td>\n",
       "      <td>Female</td>\n",
       "      <td>New Mexico</td>\n",
       "      <td>36</td>\n",
       "      <td>1/1/2017</td>\n",
       "      <td>0</td>\n",
       "      <td>single</td>\n",
       "      <td>59285</td>\n",
       "    </tr>\n",
       "    <tr>\n",
       "      <th>2</th>\n",
       "      <td>65803</td>\n",
       "      <td>Kenneth</td>\n",
       "      <td>Farley</td>\n",
       "      <td>Male</td>\n",
       "      <td>Idaho</td>\n",
       "      <td>35</td>\n",
       "      <td>1/1/2017</td>\n",
       "      <td>2</td>\n",
       "      <td>married</td>\n",
       "      <td>99568</td>\n",
       "    </tr>\n",
       "    <tr>\n",
       "      <th>3</th>\n",
       "      <td>125935</td>\n",
       "      <td>Michelle</td>\n",
       "      <td>Hicks</td>\n",
       "      <td>Female</td>\n",
       "      <td>Iowa</td>\n",
       "      <td>40</td>\n",
       "      <td>1/1/2017</td>\n",
       "      <td>0</td>\n",
       "      <td>single</td>\n",
       "      <td>42049</td>\n",
       "    </tr>\n",
       "    <tr>\n",
       "      <th>4</th>\n",
       "      <td>130797</td>\n",
       "      <td>Ann</td>\n",
       "      <td>Gilmore</td>\n",
       "      <td>Female</td>\n",
       "      <td>Maryland</td>\n",
       "      <td>26</td>\n",
       "      <td>1/1/2017</td>\n",
       "      <td>1</td>\n",
       "      <td>married</td>\n",
       "      <td>40374</td>\n",
       "    </tr>\n",
       "  </tbody>\n",
       "</table>\n",
       "</div>"
      ],
      "text/plain": [
       "   user_id first_name   surname  gender       state  age date_joined  \\\n",
       "0    26711    Deborah  Esquivel  Female    Missouri   48    1/1/2017   \n",
       "1    33890   Patricia      Hart  Female  New Mexico   36    1/1/2017   \n",
       "2    65803    Kenneth    Farley    Male       Idaho   35    1/1/2017   \n",
       "3   125935   Michelle     Hicks  Female        Iowa   40    1/1/2017   \n",
       "4   130797        Ann   Gilmore  Female    Maryland   26    1/1/2017   \n",
       "\n",
       "   n_dependants marital_status  income  \n",
       "0             3        married  165665  \n",
       "1             0         single   59285  \n",
       "2             2        married   99568  \n",
       "3             0         single   42049  \n",
       "4             1        married   40374  "
      ]
     },
     "execution_count": 35,
     "metadata": {},
     "output_type": "execute_result"
    }
   ],
   "source": [
    "customers.head(5)"
   ]
  },
  {
   "cell_type": "code",
   "execution_count": 36,
   "id": "fc27687d-b62c-47b2-b354-a5c050679208",
   "metadata": {},
   "outputs": [
    {
     "data": {
      "text/plain": [
       "dtype('int64')"
      ]
     },
     "execution_count": 36,
     "metadata": {},
     "output_type": "execute_result"
    }
   ],
   "source": [
    "# Both dataframes share the 'user_id' column\n",
    "# Check data-type of shared column\n",
    "orders_products.dtypes['user_id']"
   ]
  },
  {
   "cell_type": "code",
   "execution_count": 40,
   "id": "d24c205e-2270-421a-be92-7c02c83d35ee",
   "metadata": {},
   "outputs": [
    {
     "data": {
      "text/plain": [
       "dtype('O')"
      ]
     },
     "execution_count": 40,
     "metadata": {},
     "output_type": "execute_result"
    }
   ],
   "source": [
    "customers.dtypes['user_id']"
   ]
  },
  {
   "cell_type": "code",
   "execution_count": 41,
   "id": "95e11b1f-b570-43cc-a031-fbd87d7b51b7",
   "metadata": {},
   "outputs": [],
   "source": [
    "# Make sure both key columns are the same data type\n",
    "orders_products['user_id'] = orders_products['user_id'].astype('str')"
   ]
  },
  {
   "cell_type": "code",
   "execution_count": 42,
   "id": "cdda7a99-4d1f-4459-99d5-84b7c98882d0",
   "metadata": {},
   "outputs": [
    {
     "data": {
      "text/plain": [
       "dtype('O')"
      ]
     },
     "execution_count": 42,
     "metadata": {},
     "output_type": "execute_result"
    }
   ],
   "source": [
    "orders_products.dtypes['user_id']"
   ]
  },
  {
   "cell_type": "code",
   "execution_count": 43,
   "id": "3f2bac45-3e0e-49ec-9c86-89f6f6754f3a",
   "metadata": {},
   "outputs": [],
   "source": [
    "# Now the key columns now have matching data-types"
   ]
  },
  {
   "cell_type": "code",
   "execution_count": 44,
   "id": "152ccf87-7907-44da-a29c-5bfc5e6579bc",
   "metadata": {},
   "outputs": [],
   "source": [
    "# Drop the existing '_merge' column from previous exercises\n",
    "orders_products = orders_products.drop(columns=['_merge'])"
   ]
  },
  {
   "cell_type": "code",
   "execution_count": 45,
   "id": "e7c3640f-8f79-49a4-a55b-4f670bd26736",
   "metadata": {},
   "outputs": [],
   "source": [
    "# Merge the two dataframes using the column 'user_id' as the shared column with the default join (inner)"
   ]
  },
  {
   "cell_type": "code",
   "execution_count": 46,
   "id": "b8df6c96-8352-48a1-993d-a11da24f191e",
   "metadata": {},
   "outputs": [],
   "source": [
    "custs_ords_prods = orders_products.merge(customers, on = 'user_id', indicator = True)"
   ]
  },
  {
   "cell_type": "code",
   "execution_count": 47,
   "id": "56ec4c9a-41ca-431d-b037-005c285da792",
   "metadata": {},
   "outputs": [],
   "source": [
    "# This new dataframe combines both the customers and orders_products dataframes and uses the 'user_id' column as its key "
   ]
  },
  {
   "cell_type": "code",
   "execution_count": 48,
   "id": "e7525fb8-cf24-4daf-a100-137768690618",
   "metadata": {},
   "outputs": [
    {
     "data": {
      "text/plain": [
       "(32404859, 33)"
      ]
     },
     "execution_count": 48,
     "metadata": {},
     "output_type": "execute_result"
    }
   ],
   "source": [
    "# Check shape of newly merged dataframe\n",
    "custs_ords_prods.shape"
   ]
  },
  {
   "cell_type": "code",
   "execution_count": 49,
   "id": "8108fb92-2576-4d3b-970b-605a1facc29c",
   "metadata": {},
   "outputs": [
    {
     "data": {
      "text/html": [
       "<div>\n",
       "<style scoped>\n",
       "    .dataframe tbody tr th:only-of-type {\n",
       "        vertical-align: middle;\n",
       "    }\n",
       "\n",
       "    .dataframe tbody tr th {\n",
       "        vertical-align: top;\n",
       "    }\n",
       "\n",
       "    .dataframe thead th {\n",
       "        text-align: right;\n",
       "    }\n",
       "</style>\n",
       "<table border=\"1\" class=\"dataframe\">\n",
       "  <thead>\n",
       "    <tr style=\"text-align: right;\">\n",
       "      <th></th>\n",
       "      <th>product_id</th>\n",
       "      <th>product_name</th>\n",
       "      <th>aisle_id</th>\n",
       "      <th>department_id</th>\n",
       "      <th>prices</th>\n",
       "      <th>order_id</th>\n",
       "      <th>user_id</th>\n",
       "      <th>order_number</th>\n",
       "      <th>orders_day_of_week</th>\n",
       "      <th>order_hour_of_day</th>\n",
       "      <th>...</th>\n",
       "      <th>first_name</th>\n",
       "      <th>surname</th>\n",
       "      <th>gender</th>\n",
       "      <th>state</th>\n",
       "      <th>age</th>\n",
       "      <th>date_joined</th>\n",
       "      <th>n_dependants</th>\n",
       "      <th>marital_status</th>\n",
       "      <th>income</th>\n",
       "      <th>_merge</th>\n",
       "    </tr>\n",
       "  </thead>\n",
       "  <tbody>\n",
       "    <tr>\n",
       "      <th>0</th>\n",
       "      <td>1</td>\n",
       "      <td>Chocolate Sandwich Cookies</td>\n",
       "      <td>61</td>\n",
       "      <td>19</td>\n",
       "      <td>5.8</td>\n",
       "      <td>3139998</td>\n",
       "      <td>138</td>\n",
       "      <td>28</td>\n",
       "      <td>6</td>\n",
       "      <td>11</td>\n",
       "      <td>...</td>\n",
       "      <td>Charles</td>\n",
       "      <td>Cox</td>\n",
       "      <td>Male</td>\n",
       "      <td>Minnesota</td>\n",
       "      <td>81</td>\n",
       "      <td>8/1/2019</td>\n",
       "      <td>1</td>\n",
       "      <td>married</td>\n",
       "      <td>49620</td>\n",
       "      <td>both</td>\n",
       "    </tr>\n",
       "    <tr>\n",
       "      <th>1</th>\n",
       "      <td>1</td>\n",
       "      <td>Chocolate Sandwich Cookies</td>\n",
       "      <td>61</td>\n",
       "      <td>19</td>\n",
       "      <td>5.8</td>\n",
       "      <td>1977647</td>\n",
       "      <td>138</td>\n",
       "      <td>30</td>\n",
       "      <td>6</td>\n",
       "      <td>17</td>\n",
       "      <td>...</td>\n",
       "      <td>Charles</td>\n",
       "      <td>Cox</td>\n",
       "      <td>Male</td>\n",
       "      <td>Minnesota</td>\n",
       "      <td>81</td>\n",
       "      <td>8/1/2019</td>\n",
       "      <td>1</td>\n",
       "      <td>married</td>\n",
       "      <td>49620</td>\n",
       "      <td>both</td>\n",
       "    </tr>\n",
       "    <tr>\n",
       "      <th>2</th>\n",
       "      <td>1</td>\n",
       "      <td>Chocolate Sandwich Cookies</td>\n",
       "      <td>61</td>\n",
       "      <td>19</td>\n",
       "      <td>5.8</td>\n",
       "      <td>389851</td>\n",
       "      <td>709</td>\n",
       "      <td>2</td>\n",
       "      <td>0</td>\n",
       "      <td>21</td>\n",
       "      <td>...</td>\n",
       "      <td>Deborah</td>\n",
       "      <td>Glass</td>\n",
       "      <td>Female</td>\n",
       "      <td>Vermont</td>\n",
       "      <td>66</td>\n",
       "      <td>6/16/2018</td>\n",
       "      <td>2</td>\n",
       "      <td>married</td>\n",
       "      <td>158302</td>\n",
       "      <td>both</td>\n",
       "    </tr>\n",
       "    <tr>\n",
       "      <th>3</th>\n",
       "      <td>1</td>\n",
       "      <td>Chocolate Sandwich Cookies</td>\n",
       "      <td>61</td>\n",
       "      <td>19</td>\n",
       "      <td>5.8</td>\n",
       "      <td>652770</td>\n",
       "      <td>764</td>\n",
       "      <td>1</td>\n",
       "      <td>3</td>\n",
       "      <td>13</td>\n",
       "      <td>...</td>\n",
       "      <td>Heather</td>\n",
       "      <td>Myers</td>\n",
       "      <td>Female</td>\n",
       "      <td>Wisconsin</td>\n",
       "      <td>40</td>\n",
       "      <td>2/9/2020</td>\n",
       "      <td>3</td>\n",
       "      <td>married</td>\n",
       "      <td>31308</td>\n",
       "      <td>both</td>\n",
       "    </tr>\n",
       "    <tr>\n",
       "      <th>4</th>\n",
       "      <td>1</td>\n",
       "      <td>Chocolate Sandwich Cookies</td>\n",
       "      <td>61</td>\n",
       "      <td>19</td>\n",
       "      <td>5.8</td>\n",
       "      <td>1813452</td>\n",
       "      <td>764</td>\n",
       "      <td>3</td>\n",
       "      <td>4</td>\n",
       "      <td>17</td>\n",
       "      <td>...</td>\n",
       "      <td>Heather</td>\n",
       "      <td>Myers</td>\n",
       "      <td>Female</td>\n",
       "      <td>Wisconsin</td>\n",
       "      <td>40</td>\n",
       "      <td>2/9/2020</td>\n",
       "      <td>3</td>\n",
       "      <td>married</td>\n",
       "      <td>31308</td>\n",
       "      <td>both</td>\n",
       "    </tr>\n",
       "  </tbody>\n",
       "</table>\n",
       "<p>5 rows × 33 columns</p>\n",
       "</div>"
      ],
      "text/plain": [
       "   product_id                product_name  aisle_id  department_id  prices  \\\n",
       "0           1  Chocolate Sandwich Cookies        61             19     5.8   \n",
       "1           1  Chocolate Sandwich Cookies        61             19     5.8   \n",
       "2           1  Chocolate Sandwich Cookies        61             19     5.8   \n",
       "3           1  Chocolate Sandwich Cookies        61             19     5.8   \n",
       "4           1  Chocolate Sandwich Cookies        61             19     5.8   \n",
       "\n",
       "   order_id user_id  order_number  orders_day_of_week  order_hour_of_day  ...  \\\n",
       "0   3139998     138            28                   6                 11  ...   \n",
       "1   1977647     138            30                   6                 17  ...   \n",
       "2    389851     709             2                   0                 21  ...   \n",
       "3    652770     764             1                   3                 13  ...   \n",
       "4   1813452     764             3                   4                 17  ...   \n",
       "\n",
       "   first_name  surname  gender      state age date_joined n_dependants  \\\n",
       "0     Charles      Cox    Male  Minnesota  81    8/1/2019            1   \n",
       "1     Charles      Cox    Male  Minnesota  81    8/1/2019            1   \n",
       "2     Deborah    Glass  Female    Vermont  66   6/16/2018            2   \n",
       "3     Heather    Myers  Female  Wisconsin  40    2/9/2020            3   \n",
       "4     Heather    Myers  Female  Wisconsin  40    2/9/2020            3   \n",
       "\n",
       "   marital_status  income  _merge  \n",
       "0         married   49620    both  \n",
       "1         married   49620    both  \n",
       "2         married  158302    both  \n",
       "3         married   31308    both  \n",
       "4         married   31308    both  \n",
       "\n",
       "[5 rows x 33 columns]"
      ]
     },
     "execution_count": 49,
     "metadata": {},
     "output_type": "execute_result"
    }
   ],
   "source": [
    "custs_ords_prods.head(5)"
   ]
  },
  {
   "cell_type": "code",
   "execution_count": 50,
   "id": "4ebcb3e6-7dd2-4487-adb8-fbed25580318",
   "metadata": {},
   "outputs": [
    {
     "data": {
      "text/plain": [
       "_merge\n",
       "both          32404859\n",
       "left_only            0\n",
       "right_only           0\n",
       "Name: count, dtype: int64"
      ]
     },
     "execution_count": 50,
     "metadata": {},
     "output_type": "execute_result"
    }
   ],
   "source": [
    "# Check inner join value counts\n",
    "custs_ords_prods['_merge'].value_counts()"
   ]
  },
  {
   "cell_type": "code",
   "execution_count": 51,
   "id": "e9a69dd7-bf0e-4b73-b21f-c061fe7f8178",
   "metadata": {},
   "outputs": [
    {
     "data": {
      "text/plain": [
       "product_id                   int64\n",
       "product_name                object\n",
       "aisle_id                     int64\n",
       "department_id                int64\n",
       "prices                     float64\n",
       "order_id                     int64\n",
       "user_id                     object\n",
       "order_number                 int64\n",
       "orders_day_of_week           int64\n",
       "order_hour_of_day            int64\n",
       "days_since_prior_order     float64\n",
       "add_to_cart_order            int64\n",
       "reordered                    int64\n",
       "price_range_loc             object\n",
       "busiest day                 object\n",
       "busiest_days                object\n",
       "busiest_period_of_day       object\n",
       "max_order                    int64\n",
       "loyalty_flag                object\n",
       "average_spend              float64\n",
       "spender_flag                object\n",
       "customer_frequency         float64\n",
       "frequency_flag              object\n",
       "first_name                  object\n",
       "surname                     object\n",
       "gender                      object\n",
       "state                       object\n",
       "age                          int64\n",
       "date_joined                 object\n",
       "n_dependants                 int64\n",
       "marital_status              object\n",
       "income                       int64\n",
       "_merge                    category\n",
       "dtype: object"
      ]
     },
     "execution_count": 51,
     "metadata": {},
     "output_type": "execute_result"
    }
   ],
   "source": [
    "# Check data-types\n",
    "custs_ords_prods.dtypes"
   ]
  },
  {
   "cell_type": "code",
   "execution_count": 53,
   "id": "6ace2d4d-ce39-4e52-9cf5-7ceeae16e99b",
   "metadata": {},
   "outputs": [],
   "source": [
    "# The 'order_id' column also has the wrong data type, so let's fix it\n",
    "custs_ords_prods['order_id'] = custs_ords_prods['order_id'].astype('str')"
   ]
  },
  {
   "cell_type": "code",
   "execution_count": 54,
   "id": "a5e7ff08-4d07-4877-afe2-e2c3027bf4dc",
   "metadata": {},
   "outputs": [
    {
     "data": {
      "text/plain": [
       "product_id                   int64\n",
       "product_name                object\n",
       "aisle_id                     int64\n",
       "department_id                int64\n",
       "prices                     float64\n",
       "order_id                    object\n",
       "user_id                     object\n",
       "order_number                 int64\n",
       "orders_day_of_week           int64\n",
       "order_hour_of_day            int64\n",
       "days_since_prior_order     float64\n",
       "add_to_cart_order            int64\n",
       "reordered                    int64\n",
       "price_range_loc             object\n",
       "busiest day                 object\n",
       "busiest_days                object\n",
       "busiest_period_of_day       object\n",
       "max_order                    int64\n",
       "loyalty_flag                object\n",
       "average_spend              float64\n",
       "spender_flag                object\n",
       "customer_frequency         float64\n",
       "frequency_flag              object\n",
       "first_name                  object\n",
       "surname                     object\n",
       "gender                      object\n",
       "state                       object\n",
       "age                          int64\n",
       "date_joined                 object\n",
       "n_dependants                 int64\n",
       "marital_status              object\n",
       "income                       int64\n",
       "_merge                    category\n",
       "dtype: object"
      ]
     },
     "execution_count": 54,
     "metadata": {},
     "output_type": "execute_result"
    }
   ],
   "source": [
    "custs_ords_prods.dtypes"
   ]
  },
  {
   "cell_type": "markdown",
   "id": "8735cc29-104f-4513-9fb4-59836cf59240",
   "metadata": {},
   "source": [
    "### 8. Export this new dataframe as a pickle file so you can continue to use it in the second part of this task"
   ]
  },
  {
   "cell_type": "code",
   "execution_count": 56,
   "id": "1267d5fa-20ba-4011-9943-20b2ae96a66a",
   "metadata": {},
   "outputs": [],
   "source": [
    "custs_ords_prods.to_pickle(os.path.join(path,'02 Data', 'Prepared Data', 'orders_products_customers_merged.pkl'))"
   ]
  },
  {
   "cell_type": "code",
   "execution_count": null,
   "id": "f7e5b3f7-01fa-495b-987f-3ad7e220c5d9",
   "metadata": {},
   "outputs": [],
   "source": []
  }
 ],
 "metadata": {
  "kernelspec": {
   "display_name": "Python 3 (ipykernel)",
   "language": "python",
   "name": "python3"
  },
  "language_info": {
   "codemirror_mode": {
    "name": "ipython",
    "version": 3
   },
   "file_extension": ".py",
   "mimetype": "text/x-python",
   "name": "python",
   "nbconvert_exporter": "python",
   "pygments_lexer": "ipython3",
   "version": "3.11.7"
  }
 },
 "nbformat": 4,
 "nbformat_minor": 5
}
